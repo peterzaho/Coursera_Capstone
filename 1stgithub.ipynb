{
  "nbformat": 4,
  "nbformat_minor": 0,
  "metadata": {
    "colab": {
      "name": "1stgithub.ipynb",
      "provenance": [],
      "collapsed_sections": []
    },
    "kernelspec": {
      "name": "python3",
      "display_name": "Python 3"
    }
  },
  "cells": [
    {
      "cell_type": "markdown",
      "metadata": {
        "id": "wt0HZ1MZHMWl"
      },
      "source": [
        "\n",
        "Coursera Capstone\n",
        "\n",
        "Oct. 17, 2020\n",
        "\n",
        "This notebook will be used for Coursera capstone project\n"
      ]
    },
    {
      "cell_type": "code",
      "metadata": {
        "id": "jIMgE3ZJHOpa",
        "outputId": "54777c65-2c97-489a-8cdd-b57b6587d451",
        "colab": {
          "base_uri": "https://localhost:8080/",
          "height": 36
        }
      },
      "source": [
        "import pandas as pd\n",
        "import numpy as np\n",
        "\n",
        "print (\"Hello Capstone Project Course!\")"
      ],
      "execution_count": 1,
      "outputs": [
        {
          "output_type": "stream",
          "text": [
            "Hello Capstone Project Course!\n"
          ],
          "name": "stdout"
        }
      ]
    }
  ]
}